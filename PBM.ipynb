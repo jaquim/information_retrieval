{
 "cells": [
  {
   "cell_type": "code",
   "execution_count": 1,
   "metadata": {
    "collapsed": true
   },
   "outputs": [],
   "source": [
    "import pandas as pd\n",
    "import numpy as np\n",
    "from collections import Counter, defaultdict\n",
    "from decimal import Decimal\n",
    "\n",
    "training_file = \"YandexRelPredChallenge.txt\""
   ]
  },
  {
   "cell_type": "code",
   "execution_count": null,
   "metadata": {},
   "outputs": [
    {
     "name": "stdout",
     "output_type": "stream",
     "text": [
      "Training with EM...\n",
      "Completed EM iteration 0\n",
      "defaultdict(<class 'float'>, {4: 0.14227191260561578, 5: 0.1050610224460186, 6: 0.08918665187334641, 7: 0.07749423913971153, 8: 0.07373901169241273, 9: 0.06682597934624904, 10: 0.06861824699155074, 1: 0.6562259964154648, 2: 0.2502347017154562, 3: 0.18050695570538533}) \n",
      "\n",
      "Completed EM iteration 1\n",
      "defaultdict(<class 'float'>, {4: 0.2407974058096939, 5: 0.1815341268526386, 6: 0.15517854411055965, 7: 0.13575702234634737, 8: 0.12935005457425897, 9: 0.11763209772897092, 10: 0.12055004203397085, 1: 0.8344045062681841, 2: 0.3990141463459933, 3: 0.29927487624561383}) \n",
      "\n"
     ]
    }
   ],
   "source": [
    "# Read data into dataframe\n",
    "columns = [\"SessionID\", \"TimePassed\", \"TypeOfAction\", \"TargetID\", \"RegionID\", 1,2,3,4,5,6,7,8,9,10]\n",
    "df = pd.read_csv(training_file, sep='\\t', header=None, names=columns)\n",
    "\n",
    "gamma = defaultdict(float)\n",
    "alpha = defaultdict(lambda: defaultdict(float))\n",
    "\n",
    "print(\"Training with EM...\")\n",
    "\n",
    "for i in range(100):\n",
    "\n",
    "  # Initialise sums and counts\n",
    "  gamma_count = defaultdict(float)\n",
    "  alpha_count = defaultdict(lambda: defaultdict(lambda: 2))\n",
    "\n",
    "  gamma_sum = defaultdict(float)\n",
    "  alpha_sum = defaultdict(lambda: defaultdict(lambda: 1))\n",
    "\n",
    "  # Iterate sessions\n",
    "  grouped = df.groupby(\"SessionID\")\n",
    "  for session_id, session_df in grouped:\n",
    "\n",
    "    # Extract session clicks\n",
    "    session_clicks = session_df[session_df[\"TypeOfAction\"] == \"C\"][\"TargetID\"].tolist()\n",
    "\n",
    "    # Iterate session queries\n",
    "    for index, row in session_df[session_df[\"TypeOfAction\"] == \"Q\"].tail(1).iterrows():\n",
    "      query_id = row[\"TargetID\"]\n",
    "      for rank in range(1, 11): # from rank 1 to 10\n",
    "        document_id = row[rank]\n",
    "        \n",
    "        # Determine what values should be added to the EM formula sums \n",
    "        if document_id in session_clicks:\n",
    "          gamma_value = alpha_value = 1\n",
    "        else:\n",
    "          gamma_value = (gamma[rank] * (1 - alpha[document_id][query_id])) / \\\n",
    "                        (1 - gamma[rank] * alpha[document_id][query_id])\n",
    "          alpha_value = ((1 - gamma[rank]) * alpha[document_id][query_id]) / \\\n",
    "                        (1 - gamma[rank] * alpha[document_id][query_id])\n",
    "\n",
    "        gamma_sum[rank] += gamma_value\n",
    "        alpha_sum[document_id][query_id] += alpha_value\n",
    "\n",
    "        gamma_count[rank] += 1\n",
    "        alpha_count[document_id][query_id] += 1    \n",
    "\n",
    "  # Update variables\n",
    "  for rank, param in gamma.items():\n",
    "    gamma[rank] = gamma_sum[rank] / gamma_count[rank]\n",
    "    \n",
    "  for document_id, document_params in alpha.items():\n",
    "    for query_id, param in document_params.items():\n",
    "      alpha[document_id][query_id] = alpha_sum[document_id][query_id] / alpha_count[document_id][query_id]\n",
    "\n",
    "  print(\"Completed EM iteration\", i)\n",
    "  print(gamma, \"\\n\")"
   ]
  },
  {
   "cell_type": "code",
   "execution_count": null,
   "metadata": {
    "collapsed": true
   },
   "outputs": [],
   "source": [
    "model.click_prob(0.1, 1, 0)"
   ]
  },
  {
   "cell_type": "code",
   "execution_count": null,
   "metadata": {
    "collapsed": true
   },
   "outputs": [],
   "source": []
  }
 ],
 "metadata": {
  "kernelspec": {
   "display_name": "Python [conda env:py36]",
   "language": "python",
   "name": "conda-env-py36-py"
  },
  "language_info": {
   "codemirror_mode": {
    "name": "ipython",
    "version": 3
   },
   "file_extension": ".py",
   "mimetype": "text/x-python",
   "name": "python",
   "nbconvert_exporter": "python",
   "pygments_lexer": "ipython3",
   "version": "3.6.7"
  }
 },
 "nbformat": 4,
 "nbformat_minor": 2
}
