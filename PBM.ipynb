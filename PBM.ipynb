{
 "cells": [
  {
   "cell_type": "code",
   "execution_count": 4,
   "metadata": {},
   "outputs": [],
   "source": [
    "import pandas as pd\n",
    "import numpy as np\n",
    "from collections import Counter, defaultdict\n",
    "from decimal import Decimal\n",
    "\n",
    "training_file = \"YandexRelPredChallenge.txt\""
   ]
  },
  {
   "cell_type": "code",
   "execution_count": null,
   "metadata": {},
   "outputs": [
    {
     "name": "stdout",
     "output_type": "stream",
     "text": [
      "Training with EM...\n",
      "Completed EM iteration 0\n",
      "defaultdict(<class 'decimal.Decimal'>, {1: Decimal('0.5210775579105317452874425584'), 2: Decimal('0.2493904154553127637625433743'), 3: Decimal('0.1836021757479133452124167683'), 4: Decimal('0.1440495170214761324205195536'), 5: Decimal('0.1124917940542061333583419300'), 6: Decimal('0.09561099127825189909031229485'), 7: Decimal('0.08449779611741536153052611835'), 8: Decimal('0.07678420707118071837194035450'), 9: Decimal('0.07054768826784207071180718372'), 10: Decimal('0.07021945043608740504548438526')}) \n",
      "\n",
      "Completed EM iteration 1\n",
      "defaultdict(<class 'decimal.Decimal'>, {1: Decimal('0.7488095584515335912277215083'), 2: Decimal('0.4256437490848015154390693642'), 3: Decimal('0.3269981974115213058647808846'), 4: Decimal('0.2629782275265703256985426261'), 5: Decimal('0.2096093758972762393322775675'), 6: Decimal('0.1800013114634592254032834189'), 7: Decimal('0.1602519805670651312377511268'), 8: Decimal('0.1462892869451669851235520006'), 9: Decimal('0.1349371268902746738508587734'), 10: Decimal('0.1343018804468520350618447449')}) \n",
      "\n",
      "Completed EM iteration 2\n",
      "defaultdict(<class 'decimal.Decimal'>, {1: Decimal('0.8465003679235348042588295393'), 2: Decimal('0.5432440320234489253570243761'), 3: Decimal('0.4335936838398997435627415556'), 4: Decimal('0.3569265984223904598509065716'), 5: Decimal('0.2904833198406011389720026878'), 6: Decimal('0.2520519324822505864419662459'), 7: Decimal('0.2261965000121000862511226485'), 8: Decimal('0.2074630730770542049658488980'), 9: Decimal('0.1921838647696164261713700351'), 10: Decimal('0.1912248226304815496638825792')}) \n",
      "\n",
      "Completed EM iteration 3\n",
      "defaultdict(<class 'decimal.Decimal'>, {1: Decimal('0.8961332271651388031515676163'), 2: Decimal('0.6233282043146654772507370351'), 3: Decimal('0.5128483472776786653629042699'), 4: Decimal('0.4305662777913731468895459864'), 5: Decimal('0.3570903591990701807876327009'), 6: Decimal('0.3127921361338917617043098061'), 7: Decimal('0.2828844594626726172471204949'), 8: Decimal('0.2606068487156560904664346818'), 9: Decimal('0.2424266624931262617665174299'), 10: Decimal('0.2411134530751554509455240753')}) \n",
      "\n",
      "Completed EM iteration 4\n",
      "defaultdict(<class 'decimal.Decimal'>, {1: Decimal('0.9266701804908708818433463828'), 2: Decimal('0.6815390462615816053383295630'), 3: Decimal('0.5736964833562130747593392943'), 4: Decimal('0.4893021923414073097128096218'), 5: Decimal('0.4123307593919513470594542291'), 6: Decimal('0.3641444312665935706385742579'), 7: Decimal('0.3316379323899962449680184835'), 8: Decimal('0.3067127386016212432360813831'), 9: Decimal('0.2864096022649090163735466445'), 10: Decimal('0.2847093709778761245446065809')}) \n",
      "\n",
      "Completed EM iteration 5\n",
      "defaultdict(<class 'decimal.Decimal'>, {1: Decimal('0.9474920405148758637841894211'), 2: Decimal('0.7271815774494904670254745724'), 3: Decimal('0.6226519813630187046445895656'), 4: Decimal('0.5376736997014987043294505775'), 5: Decimal('0.4590050518850340029001810264'), 6: Decimal('0.4081593346696272073681951772'), 7: Decimal('0.3739817346412912631672896774'), 8: Decimal('0.3470077487286083916411351998'), 9: Decimal('0.3251159798630983815659979539'), 10: Decimal('0.3229975412816751182550519814')}) \n",
      "\n",
      "Completed EM iteration 6\n",
      "defaultdict(<class 'decimal.Decimal'>, {1: Decimal('0.9621099944506310475486209864'), 2: Decimal('0.7651608553626889237794529176'), 3: Decimal('0.6638864086947199419138020672'), 4: Decimal('0.5789691265661238157975559024'), 5: Decimal('0.4994048849178047656360296094'), 6: Decimal('0.4466407634504185515498611938'), 7: Decimal('0.4113343418030792984273468173'), 8: Decimal('0.3826874387197465856749667373'), 9: Decimal('0.3595451442224380126285419699'), 10: Decimal('0.3569818248718459453681996511')}) \n",
      "\n",
      "Completed EM iteration 7\n",
      "defaultdict(<class 'decimal.Decimal'>, {1: Decimal('0.9723161270792332163582928672'), 2: Decimal('0.7978534025744215997672091674'), 3: Decimal('0.6998534557273693511038163582'), 4: Decimal('0.6153456270970552676895937044'), 5: Decimal('0.5352312883850343162251709322'), 6: Decimal('0.4810107375031389445785325399'), 7: Decimal('0.4448719166118706660910923354'), 8: Decimal('0.4147841792487132670136751060'), 9: Decimal('0.3905937119087679748664668986'), 10: Decimal('0.3875661817630406079508239253')}) \n",
      "\n",
      "Completed EM iteration 8\n",
      "defaultdict(<class 'decimal.Decimal'>, {1: Decimal('0.9794004730551378800731518761'), 2: Decimal('0.8263579136099342870698439607'), 3: Decimal('0.7319129130264928747342690352'), 4: Decimal('0.6481098087112460858635997081'), 5: Decimal('0.5676587228768335331371948549'), 6: Decimal('0.5123037456639449337890474271'), 7: Decimal('0.4754950552956535225051808023'), 8: Decimal('0.4441200870416852780429544150'), 9: Decimal('0.4190043863566561184397038563'), 10: Decimal('0.4155031629511410974280847126')}) \n",
      "\n",
      "Completed EM iteration 9\n",
      "defaultdict(<class 'decimal.Decimal'>, {1: Decimal('0.9844288635937618106036259570'), 2: Decimal('0.8512254161563042865873071197'), 3: Decimal('0.7607960951103499361810872149'), 4: Decimal('0.6780103680912089355298592671'), 5: Decimal('0.5974498758763678372478644186'), 6: Decimal('0.5412234900573794215270094397'), 7: Decimal('0.5038507490448182064173092256'), 8: Decimal('0.4713091118194497741415646966'), 9: Decimal('0.4453555143394636027480528315'), 10: Decimal('0.4413826786963950069146722163')}) \n",
      "\n"
     ]
    }
   ],
   "source": [
    "# Read data into dataframe\n",
    "columns = [\"SessionID\", \"TimePassed\", \"TypeOfAction\", \"TargetID\", \"RegionID\", 1,2,3,4,5,6,7,8,9,10]\n",
    "df = pd.read_csv(training_file, sep='\\t', header=None, names=columns)\n",
    "\n",
    "gamma = defaultdict(Decimal)\n",
    "alpha = defaultdict(lambda: defaultdict(Decimal))\n",
    "\n",
    "print(\"Training with EM...\")\n",
    "\n",
    "for i in range(100):\n",
    "\n",
    "  # Initialise sums and counts\n",
    "  gamma_count = defaultdict(Decimal)\n",
    "  alpha_count = defaultdict(lambda: defaultdict(Decimal))\n",
    "\n",
    "  gamma_sum = defaultdict(Decimal)\n",
    "  alpha_sum = defaultdict(lambda: defaultdict(Decimal))\n",
    "\n",
    "  # Iterate sessions\n",
    "  grouped = df.groupby(\"SessionID\")\n",
    "  for session_id, session_df in grouped:\n",
    "\n",
    "    # Extract session clicks\n",
    "    session_clicks = session_df[session_df[\"TypeOfAction\"] == \"C\"][\"TargetID\"].tolist()\n",
    "\n",
    "    # Iterate session queries\n",
    "    for index, row in session_df[session_df[\"TypeOfAction\"] == \"Q\"].iterrows():\n",
    "      query_id = row[\"TargetID\"]\n",
    "      for rank in range(1, 11): # from rank 1 to 10\n",
    "        document_id = row[rank]\n",
    "        \n",
    "        # Determine what values should be added to the EM formula sums \n",
    "        if document_id in session_clicks:\n",
    "          gamma_value = alpha_value = 1\n",
    "        else:\n",
    "          gamma_value = (gamma[rank] * (1 - alpha[document_id][query_id])) / \\\n",
    "                        (1 - gamma[rank] * alpha[document_id][query_id])\n",
    "          alpha_value = ((1 - gamma[rank]) * alpha[document_id][query_id]) / \\\n",
    "                        (1 - gamma[rank] * alpha[document_id][query_id])\n",
    "\n",
    "        gamma_sum[rank] += gamma_value\n",
    "        alpha_sum[document_id][query_id] += alpha_value\n",
    "\n",
    "        gamma_count[rank] += 1\n",
    "        alpha_count[document_id][query_id] += 1    \n",
    "\n",
    "  # Update variables\n",
    "  for rank, param in gamma.items():\n",
    "    gamma[rank] = gamma_sum[rank] / gamma_count[rank]\n",
    "    \n",
    "  for document_id, document_params in alpha.items():\n",
    "    for query_id, param in document_params.items():\n",
    "      alpha[document_id][query_id] = alpha_sum[document_id][query_id] / alpha_count[document_id][query_id]\n",
    "\n",
    "  print(\"Completed EM iteration\", i)\n",
    "  print(gamma, \"\\n\")"
   ]
  },
  {
   "cell_type": "code",
   "execution_count": null,
   "metadata": {},
   "outputs": [],
   "source": [
    "model.click_prob(0.1, 1, 0)"
   ]
  },
  {
   "cell_type": "code",
   "execution_count": null,
   "metadata": {
    "collapsed": true
   },
   "outputs": [],
   "source": []
  }
 ],
 "metadata": {
  "kernelspec": {
   "display_name": "Python [conda env:py36]",
   "language": "python",
   "name": "conda-env-py36-py"
  },
  "language_info": {
   "codemirror_mode": {
    "name": "ipython",
    "version": 3
   },
   "file_extension": ".py",
   "mimetype": "text/x-python",
   "name": "python",
   "nbconvert_exporter": "python",
   "pygments_lexer": "ipython3",
   "version": "3.6.7"
  }
 },
 "nbformat": 4,
 "nbformat_minor": 2
}
