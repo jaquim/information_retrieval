{
 "cells": [
  {
   "cell_type": "code",
   "execution_count": 1,
   "metadata": {},
   "outputs": [],
   "source": [
    "import numpy as np\n",
    "import pandas as pd\n",
    "import itertools\n",
    "from collections import defaultdict"
   ]
  },
  {
   "cell_type": "markdown",
   "metadata": {},
   "source": [
    "## Global parameters"
   ]
  },
  {
   "cell_type": "code",
   "execution_count": 2,
   "metadata": {},
   "outputs": [],
   "source": [
    "binary_relevance = [0,1]\n",
    "cut_off = 3"
   ]
  },
  {
   "cell_type": "markdown",
   "metadata": {},
   "source": [
    "## Simulated rankings for system E and P"
   ]
  },
  {
   "cell_type": "code",
   "execution_count": 27,
   "metadata": {},
   "outputs": [
    {
     "name": "stdout",
     "output_type": "stream",
     "text": [
      "[[(0, 1), (0, 2), (0, 3)], [(0, 1), (0, 2), (1, 3)], [(0, 1), (1, 2), (0, 3)], [(0, 1), (1, 2), (1, 3)], [(1, 1), (0, 2), (0, 3)], [(1, 1), (0, 2), (1, 3)], [(1, 1), (1, 2), (0, 3)], [(1, 1), (1, 2), (1, 3)], [(0, 1), (0, 2), (0, 4)], [(0, 1), (0, 2), (1, 4)], [(0, 1), (1, 2), (0, 4)], [(0, 1), (1, 2), (1, 4)], [(1, 1), (0, 2), (0, 4)], [(1, 1), (0, 2), (1, 4)], [(1, 1), (1, 2), (0, 4)], [(1, 1), (1, 2), (1, 4)], [(0, 1), (0, 2), (0, 5)], [(0, 1), (0, 2), (1, 5)], [(0, 1), (1, 2), (0, 5)], [(0, 1), (1, 2), (1, 5)], [(1, 1), (0, 2), (0, 5)], [(1, 1), (0, 2), (1, 5)], [(1, 1), (1, 2), (0, 5)], [(1, 1), (1, 2), (1, 5)], [(0, 1), (0, 2), (0, 6)], [(0, 1), (0, 2), (1, 6)], [(0, 1), (1, 2), (0, 6)], [(0, 1), (1, 2), (1, 6)], [(1, 1), (0, 2), (0, 6)], [(1, 1), (0, 2), (1, 6)], [(1, 1), (1, 2), (0, 6)], [(1, 1), (1, 2), (1, 6)], [(0, 1), (0, 3), (0, 4)], [(0, 1), (0, 3), (1, 4)], [(0, 1), (1, 3), (0, 4)], [(0, 1), (1, 3), (1, 4)], [(1, 1), (0, 3), (0, 4)], [(1, 1), (0, 3), (1, 4)], [(1, 1), (1, 3), (0, 4)], [(1, 1), (1, 3), (1, 4)], [(0, 1), (0, 3), (0, 5)], [(0, 1), (0, 3), (1, 5)], [(0, 1), (1, 3), (0, 5)], [(0, 1), (1, 3), (1, 5)], [(1, 1), (0, 3), (0, 5)], [(1, 1), (0, 3), (1, 5)], [(1, 1), (1, 3), (0, 5)], [(1, 1), (1, 3), (1, 5)], [(0, 1), (0, 3), (0, 6)], [(0, 1), (0, 3), (1, 6)], [(0, 1), (1, 3), (0, 6)], [(0, 1), (1, 3), (1, 6)], [(1, 1), (0, 3), (0, 6)], [(1, 1), (0, 3), (1, 6)], [(1, 1), (1, 3), (0, 6)], [(1, 1), (1, 3), (1, 6)], [(0, 1), (0, 4), (0, 5)], [(0, 1), (0, 4), (1, 5)], [(0, 1), (1, 4), (0, 5)], [(0, 1), (1, 4), (1, 5)], [(1, 1), (0, 4), (0, 5)], [(1, 1), (0, 4), (1, 5)], [(1, 1), (1, 4), (0, 5)], [(1, 1), (1, 4), (1, 5)], [(0, 1), (0, 4), (0, 6)], [(0, 1), (0, 4), (1, 6)], [(0, 1), (1, 4), (0, 6)], [(0, 1), (1, 4), (1, 6)], [(1, 1), (0, 4), (0, 6)], [(1, 1), (0, 4), (1, 6)], [(1, 1), (1, 4), (0, 6)], [(1, 1), (1, 4), (1, 6)], [(0, 1), (0, 5), (0, 6)], [(0, 1), (0, 5), (1, 6)], [(0, 1), (1, 5), (0, 6)], [(0, 1), (1, 5), (1, 6)], [(1, 1), (0, 5), (0, 6)], [(1, 1), (0, 5), (1, 6)], [(1, 1), (1, 5), (0, 6)], [(1, 1), (1, 5), (1, 6)], [(0, 2), (0, 3), (0, 4)], [(0, 2), (0, 3), (1, 4)], [(0, 2), (1, 3), (0, 4)], [(0, 2), (1, 3), (1, 4)], [(1, 2), (0, 3), (0, 4)], [(1, 2), (0, 3), (1, 4)], [(1, 2), (1, 3), (0, 4)], [(1, 2), (1, 3), (1, 4)], [(0, 2), (0, 3), (0, 5)], [(0, 2), (0, 3), (1, 5)], [(0, 2), (1, 3), (0, 5)], [(0, 2), (1, 3), (1, 5)], [(1, 2), (0, 3), (0, 5)], [(1, 2), (0, 3), (1, 5)], [(1, 2), (1, 3), (0, 5)], [(1, 2), (1, 3), (1, 5)], [(0, 2), (0, 3), (0, 6)], [(0, 2), (0, 3), (1, 6)], [(0, 2), (1, 3), (0, 6)], [(0, 2), (1, 3), (1, 6)], [(1, 2), (0, 3), (0, 6)], [(1, 2), (0, 3), (1, 6)], [(1, 2), (1, 3), (0, 6)], [(1, 2), (1, 3), (1, 6)], [(0, 2), (0, 4), (0, 5)], [(0, 2), (0, 4), (1, 5)], [(0, 2), (1, 4), (0, 5)], [(0, 2), (1, 4), (1, 5)], [(1, 2), (0, 4), (0, 5)], [(1, 2), (0, 4), (1, 5)], [(1, 2), (1, 4), (0, 5)], [(1, 2), (1, 4), (1, 5)], [(0, 2), (0, 4), (0, 6)], [(0, 2), (0, 4), (1, 6)], [(0, 2), (1, 4), (0, 6)], [(0, 2), (1, 4), (1, 6)], [(1, 2), (0, 4), (0, 6)], [(1, 2), (0, 4), (1, 6)], [(1, 2), (1, 4), (0, 6)], [(1, 2), (1, 4), (1, 6)], [(0, 2), (0, 5), (0, 6)], [(0, 2), (0, 5), (1, 6)], [(0, 2), (1, 5), (0, 6)], [(0, 2), (1, 5), (1, 6)], [(1, 2), (0, 5), (0, 6)], [(1, 2), (0, 5), (1, 6)], [(1, 2), (1, 5), (0, 6)], [(1, 2), (1, 5), (1, 6)], [(0, 3), (0, 4), (0, 5)], [(0, 3), (0, 4), (1, 5)], [(0, 3), (1, 4), (0, 5)], [(0, 3), (1, 4), (1, 5)], [(1, 3), (0, 4), (0, 5)], [(1, 3), (0, 4), (1, 5)], [(1, 3), (1, 4), (0, 5)], [(1, 3), (1, 4), (1, 5)], [(0, 3), (0, 4), (0, 6)], [(0, 3), (0, 4), (1, 6)], [(0, 3), (1, 4), (0, 6)], [(0, 3), (1, 4), (1, 6)], [(1, 3), (0, 4), (0, 6)], [(1, 3), (0, 4), (1, 6)], [(1, 3), (1, 4), (0, 6)], [(1, 3), (1, 4), (1, 6)], [(0, 3), (0, 5), (0, 6)], [(0, 3), (0, 5), (1, 6)], [(0, 3), (1, 5), (0, 6)], [(0, 3), (1, 5), (1, 6)], [(1, 3), (0, 5), (0, 6)], [(1, 3), (0, 5), (1, 6)], [(1, 3), (1, 5), (0, 6)], [(1, 3), (1, 5), (1, 6)], [(0, 4), (0, 5), (0, 6)], [(0, 4), (0, 5), (1, 6)], [(0, 4), (1, 5), (0, 6)], [(0, 4), (1, 5), (1, 6)], [(1, 4), (0, 5), (0, 6)], [(1, 4), (0, 5), (1, 6)], [(1, 4), (1, 5), (0, 6)], [(1, 4), (1, 5), (1, 6)]]\n"
     ]
    }
   ],
   "source": [
    "system_e = list(map(list, itertools.product(binary_relevance, repeat=cut_off)))\n",
    "system_p = list(map(list, itertools.product(binary_relevance, repeat=cut_off)))\n",
    "\n",
    "ids_e = [1,2,3]\n",
    "permutations_ids_p = [list(comb) for comb in list(itertools.combinations([1,2,3,4,5,6], 3))]\n",
    "\n",
    "system_e = [list(zip(ranking, ids_e)) for ranking in system_e]\n",
    "\n",
    "test = [list(zip(grades,ids)) for ids in permutations_ids_p for grades in system_p]\n",
    "\n",
    "\n",
    "print(test)\n",
    "# print(system_p, '\\n------------------------\\n')\n",
    "# print(permutations_ids_p)\n",
    "\n",
    "# system_p = [list(zip(ranking, permutations_ids_p)) for ranking in system_p]\n",
    "\n",
    "\n",
    "\n",
    "# system_p = [list(zip(ranking, ids_p)) for ranking in system_p]\n",
    "\n",
    "# ranking_pairs = list(itertools.product(system_e, system_p))\n",
    "# ranking_pairs"
   ]
  },
  {
   "cell_type": "markdown",
   "metadata": {},
   "source": [
    "## Defining Expected Reciprocal Rank @ Cut-off (ERR@-)"
   ]
  },
  {
   "cell_type": "code",
   "execution_count": 97,
   "metadata": {},
   "outputs": [],
   "source": [
    "mapping_relevance_to_probability = lambda pos_g, max_g: ((2**pos_g) - 1 ) / (2**max_g)"
   ]
  },
  {
   "cell_type": "code",
   "execution_count": 98,
   "metadata": {},
   "outputs": [],
   "source": [
    "def ERR(ranking, mapping=mapping_relevance_to_probability, n=cut_off):\n",
    "    p, err = 1, 0\n",
    "    \n",
    "    for r in range(0, n):\n",
    "        R = mapping_relevance_to_probability(ranking[r], 1)\n",
    "        err += (p * (R/(r+1)))\n",
    "        p *= (1-R)\n",
    "        \n",
    "    return err"
   ]
  },
  {
   "cell_type": "markdown",
   "metadata": {},
   "source": [
    "## Construct the table"
   ]
  },
  {
   "cell_type": "code",
   "execution_count": 4,
   "metadata": {},
   "outputs": [
    {
     "ename": "NameError",
     "evalue": "name 'ERR' is not defined",
     "output_type": "error",
     "traceback": [
      "\u001b[0;31m---------------------------------------------------------------------------\u001b[0m",
      "\u001b[0;31mNameError\u001b[0m                                 Traceback (most recent call last)",
      "\u001b[0;32m<ipython-input-4-c5e58196fb8c>\u001b[0m in \u001b[0;36m<module>\u001b[0;34m\u001b[0m\n\u001b[1;32m      2\u001b[0m \u001b[0;32mfor\u001b[0m \u001b[0mpair\u001b[0m \u001b[0;32min\u001b[0m \u001b[0mranking_pairs\u001b[0m\u001b[0;34m:\u001b[0m\u001b[0;34m\u001b[0m\u001b[0m\n\u001b[1;32m      3\u001b[0m \u001b[0;34m\u001b[0m\u001b[0m\n\u001b[0;32m----> 4\u001b[0;31m     \u001b[0merr_e\u001b[0m \u001b[0;34m=\u001b[0m \u001b[0mERR\u001b[0m\u001b[0;34m(\u001b[0m\u001b[0mpair\u001b[0m\u001b[0;34m[\u001b[0m\u001b[0;36m0\u001b[0m\u001b[0;34m]\u001b[0m\u001b[0;34m)\u001b[0m\u001b[0;34m\u001b[0m\u001b[0m\n\u001b[0m\u001b[1;32m      5\u001b[0m     \u001b[0merr_p\u001b[0m \u001b[0;34m=\u001b[0m \u001b[0mERR\u001b[0m\u001b[0;34m(\u001b[0m\u001b[0mpair\u001b[0m\u001b[0;34m[\u001b[0m\u001b[0;36m1\u001b[0m\u001b[0;34m]\u001b[0m\u001b[0;34m)\u001b[0m\u001b[0;34m\u001b[0m\u001b[0m\n\u001b[1;32m      6\u001b[0m     \u001b[0mdelta_err\u001b[0m \u001b[0;34m=\u001b[0m \u001b[0merr_e\u001b[0m \u001b[0;34m-\u001b[0m \u001b[0merr_p\u001b[0m\u001b[0;34m\u001b[0m\u001b[0m\n",
      "\u001b[0;31mNameError\u001b[0m: name 'ERR' is not defined"
     ]
    }
   ],
   "source": [
    "table = defaultdict(lambda:list())\n",
    "for pair in ranking_pairs:\n",
    "    \n",
    "    err_e = ERR(pair[0])\n",
    "    err_p = ERR(pair[1])\n",
    "    delta_err = err_e - err_p\n",
    "    if delta_err >= 0: # only consider cases where system e outperforms system p\n",
    "        table[delta_err].append(pair)\n",
    "    \n",
    "table\n",
    "# table = {k:sum(v) for k,v in table.items()}\n",
    "    \n",
    "# table = pd.DataFrame(table, index=[0]).T\n",
    "# table.reset_index(level=0, inplace=True)"
   ]
  },
  {
   "cell_type": "code",
   "execution_count": 135,
   "metadata": {},
   "outputs": [
    {
     "data": {
      "text/plain": [
       "index\n",
       "(0.05, 0.15]    54\n",
       "(0.15, 0.25]    36\n",
       "(0.25, 0.35]    31\n",
       "(0.35, 0.45]    14\n",
       "(0.45, 0.55]     9\n",
       "(0.55, 0.65]     3\n",
       "(0.65, 0.75]     7\n",
       "(0.75, 0.85]     8\n",
       "(0.85, 0.95]     1\n",
       "Name: 0, dtype: int64"
      ]
     },
     "execution_count": 135,
     "metadata": {},
     "output_type": "execute_result"
    }
   ],
   "source": [
    "bins = np.linspace(0.05, 0.95 , 10)\n",
    "groups = table.groupby(pandas.cut(table['index'], bins))\n",
    "# groups.count()[0]"
   ]
  },
  {
   "cell_type": "code",
   "execution_count": null,
   "metadata": {},
   "outputs": [],
   "source": [
    "def team_draft_interleaving(ranking_a, ranking_b):\n",
    "    I, team_a, team_b = list(), set(), set()\n",
    "    "
   ]
  }
 ],
 "metadata": {
  "kernelspec": {
   "display_name": "Python 3",
   "language": "python",
   "name": "python3"
  },
  "language_info": {
   "codemirror_mode": {
    "name": "ipython",
    "version": 3
   },
   "file_extension": ".py",
   "mimetype": "text/x-python",
   "name": "python",
   "nbconvert_exporter": "python",
   "pygments_lexer": "ipython3",
   "version": "3.7.0"
  }
 },
 "nbformat": 4,
 "nbformat_minor": 2
}
